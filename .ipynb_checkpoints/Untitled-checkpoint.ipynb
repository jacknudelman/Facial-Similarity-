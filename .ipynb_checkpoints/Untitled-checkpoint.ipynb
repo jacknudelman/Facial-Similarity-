{
 "cells": [
  {
   "cell_type": "code",
   "execution_count": 1,
   "metadata": {
    "collapsed": true
   },
   "outputs": [],
   "source": [
    "import matplotlib\n",
    "matplotlib.use('Agg')\n",
    "from data_extraction import *\n",
    "import torch\n",
    "from torch.autograd import Variable\n",
    "import torch.nn as nn\n",
    "import torch.nn.functional as F\n",
    "from torchvision import transforms, utils\n",
    "from torch.utils.data import Dataset, DataLoader\n",
    "import sys"
   ]
  },
  {
   "cell_type": "code",
   "execution_count": 3,
   "metadata": {
    "collapsed": true
   },
   "outputs": [],
   "source": [
    "class Net(nn.Module):\n",
    "\n",
    "    def __init__(self, batchSize):\n",
    "        super(Net, self).__init__()\n",
    "        self.batchSize = batchSize\n",
    "        self.maxPool = nn.MaxPool2d(2, stride=(2,2))\n",
    "        self.linearLayer1 = nn.Linear(131072, 1024)\n",
    "        self.linearLayer2 = nn.Linear(2048, 1)\n",
    "\n",
    "        self.conv1 = nn.Conv2d(3, 64, 5, stride=(1,1), padding=2)\n",
    "        self.batchNorm1 = nn.BatchNorm2d(64)\n",
    "\n",
    "        self.conv2 = nn.Conv2d(64, 128, 5, stride=(1,1), padding=2)\n",
    "        self.batchNorm2 = nn.BatchNorm2d(128)\n",
    "\n",
    "        self.conv3 = nn.Conv2d(128, 256, 3, stride=(1,1), padding=1)\n",
    "        self.batchNorm3 = nn.BatchNorm2d(256)\n",
    "\n",
    "        self.conv4 = nn.Conv2d(256, 512, 3, stride=(1,1), padding=1)\n",
    "        self.batchNorm4 = nn.BatchNorm2d(512)\n",
    "\n",
    "        self.batchNorm5 = nn.BatchNorm2d(1024)\n",
    "\n",
    "    def forward1(self, x):\n",
    "\n",
    "        x = self.conv1(x)\n",
    "        # x.size()\n",
    "        x = F.relu(x)\n",
    "        x = self.batchNorm1(x)\n",
    "        x = self.maxPool(x)\n",
    "\n",
    "        x = self.conv2(x)\n",
    "        x = F.relu(x)\n",
    "        x = self.batchNorm2(x)\n",
    "        x = self.maxPool(x)\n",
    "\n",
    "        x = self.conv3(x)\n",
    "        x = F.relu(x)\n",
    "        x = self.batchNorm3(x)\n",
    "        x = self.maxPool(x)\n",
    "\n",
    "        x = self.conv4(x)\n",
    "        x = F.relu(x)\n",
    "        x = self.batchNorm4(x)\n",
    "\n",
    "        # flatten\n",
    "        x = x.view(-1, self.num_flat_features(x))\n",
    "\n",
    "        x = self.linearLayer1(x)\n",
    "\n",
    "        x = F.relu(x)\n",
    "        x = self.batchNorm5(x)\n",
    "        return x\n",
    "\n",
    "    def forward(self, img1, img2):\n",
    "        img1 = self.forward1(img1)\n",
    "        img2 = self.forward1(img2)\n",
    "\n",
    "        z = torch.cat((img1, img2), 1)\n",
    "        z = self.linearLayer2(z)\n",
    "        z = F.sigmoid(z)\n",
    "\n",
    "        return z\n",
    "\n",
    "    def num_flat_features(self, x):\n",
    "        size = x.size()[1:]  # all dimensions except the batch dimension\n",
    "        num_features = 1\n",
    "        for s in size:\n",
    "            num_features *= s\n",
    "        return num_features\n"
   ]
  },
  {
   "cell_type": "code",
   "execution_count": 4,
   "metadata": {
    "collapsed": true
   },
   "outputs": [],
   "source": [
    "def show_batch(sample_batch):\n",
    "    images_batch1 = sample_batch['image1']\n",
    "    images_batch2 = sample_batch['image2']\n",
    "\n",
    "    grid1 = utils.make_grid(images_batch1).numpy().transpose((1, 2, 0))\n",
    "    plt.imshow(grid1)\n",
    "    plt.axis('off')\n",
    "    plt.ioff()\n",
    "    plt.show()\n",
    "\n",
    "    grid2 = utils.make_grid(images_batch2).numpy().transpose((1, 2, 0))\n",
    "    plt.imshow(grid2)\n",
    "    plt.axis('off')\n",
    "    plt.ioff()\n",
    "    plt.show()\n",
    "\n",
    "\n",
    "def compute_test_loss(net, dataloader):\n",
    "    criterion = nn.BCELoss()\n",
    "\n",
    "    running_loss = 0\n",
    "    iter_num = 1\n",
    "    total_imgs = 0\n",
    "    for sample_batch in dataloader:\n",
    "        out = net(Variable(sample_batch['image1'], requires_grad=False).cuda(), Variable(sample_batch['image2'], requires_grad=False).cuda())\n",
    "        target = sample_batch['label']\n",
    "        target = np.array([float(i) for i in target])\n",
    "        total_imgs += target.shape[0]\n",
    "        target = torch.from_numpy(target).view(target.shape[0], -1)\n",
    "        target = target.type(torch.FloatTensor)\n",
    "        target = Variable(target, requires_grad=False).cuda()\n",
    "\n",
    "        loss = criterion(out, target)\n",
    "        running_loss += loss.data[0]\n",
    "        net.zero_grad()\n",
    "    return running_loss / total_imgs\n",
    "\n",
    "def create_transform_list():\n",
    "    possible_data_augmenters = [[transforms.RandomHorizontalFlip], [transforms.RandomHorizontalFlip],[transforms.CenterCrop(np.floor(128 * random.uniform(0.7, 1.3))), transforms.Scale((128, 128))], [lambda im: im.rotate(random.randint(-30,30), expand=1 ), transforms.Scale((128, 128))], [lambda im: Image.fromarray(cv2.warpAffine(np.array(im), np.float32([[1, 0, random.randint(-10,10)], [0, 1, random.randint(-10,10)]])))]]\n",
    "    trans = list()\n",
    "    trans.append([transforms.Scale((128, 128))])\n",
    "    num_additional_transformers = random.randint(1,len(possible_data_augmenters))\n",
    "    indices = np.random.choice(len(possible_data_augmenters), num_additional_transformers, replace=False)\n",
    "    trans.extend([possible_data_augmenters[i] for i in indices])\n",
    "    trans.append([transforms.ToTensor()])\n",
    "    flat = [x for sublist in trans for x in sublist]\n",
    "\n",
    "    return flat"
   ]
  },
  {
   "cell_type": "code",
   "execution_count": 6,
   "metadata": {},
   "outputs": [
    {
     "name": "stdout",
     "output_type": "stream",
     "text": [
      "created net\n"
     ]
    }
   ],
   "source": [
    "net = Net(40)\n",
    "print 'created net'"
   ]
  },
  {
   "cell_type": "code",
   "execution_count": 10,
   "metadata": {},
   "outputs": [
    {
     "name": "stdout",
     "output_type": "stream",
     "text": [
      "got datasets\n"
     ]
    }
   ],
   "source": [
    "train_transformation = transforms.Compose([transforms.Scale((128, 128)), transforms.ToTensor()])\n",
    "\n",
    "train_face_dataset = FaceDataset(csv_file='train.txt', root_dir='lfw/', transformation=train_transformation)\n",
    "train_dataloader = DataLoader(train_face_dataset, batch_size=net.batchSize, shuffle=True, num_workers=net.batchSize)\n",
    "\n",
    "test_transformation = transforms.Compose([transforms.Scale((128, 128)), transforms.ToTensor()])\n",
    "test_face_dataset = FaceDataset(csv_file='test.txt', root_dir='lfw/', transformation=test_transformation)\n",
    "test_dataloader = DataLoader(test_face_dataset, batch_size=net.batchSize, shuffle=True, num_workers=net.batchSize)\n",
    "print 'got datasets'\n",
    "learning_rate = 1e-6\n",
    "optimizer = torch.optim.Adam(net.parameters(), lr=learning_rate)\n",
    "criterion = nn.BCELoss()\n",
    "training_loss_list = list()\n",
    "testing_loss_list = list()\n",
    "average_testing_loss = list()\n",
    "\n",
    "iter_num = 0\n",
    "num_correctly_matched = 0\n",
    "total_num_correctly_matched = 0\n",
    "total_num_imgs = 0"
   ]
  },
  {
   "cell_type": "code",
   "execution_count": null,
   "metadata": {
    "collapsed": true
   },
   "outputs": [],
   "source": [
    "for epoch in range(2):\n",
    "    print epoch\n",
    "    num_images = 0\n",
    "\n",
    "    for sample_batch in train_dataloader:\n",
    "        if ('--augment' in sys.argv):\n",
    "            if random.uniform(0.0, 1.0) > 0.3:\n",
    "                train_face_dataset.transformation = create_transform_list()\n",
    "        out = net(Variable(sample_batch['image1'], requires_grad=False), Variable(sample_batch['image2'], requires_grad=False))\n",
    "        # target = sample_batch['label']\n",
    "        # target = np.array([float(i) for i in target])\n",
    "        \n",
    "        # for i in range(target.shape[0]):\n",
    "            # num_correctly_matched = num_correctly_matched + 1 if((target[i] == 1 and out.data[i][0] >= 0.5) or (target[i] == 0 and out.data[i][0] < 0.5)) else num_correctly_matched\n",
    "        # print 'num_correctly_matched = ', num_correctly_matched\n",
    "        target = Variable(sample_batch['label'], requires_grad=False)\n",
    "        print target.shape\n",
    "        # num_images += target.shape[0]\n",
    "        # target = torch.from_numpy(target).view(target.shape[0], -1)\n",
    "        # target = target.type(torch.FloatTensor)\n",
    "        # target = Variable(target, requires_grad=False).cuda()\n",
    "\n",
    "\n",
    "        loss = criterion(out, target)\n",
    "        print loss\n",
    "        net.zero_grad()\n",
    "        loss.backward()\n",
    "        optimizer.step()\n",
    "\n",
    "        training_loss_list.append(loss.data[0])\n",
    "        iter_num += 1\n",
    "#         if iter_num % 2 != 0:\n",
    "#             # training_loss_list.append(running_training_loss / 2)\n",
    "#             # running_training_loss = 0\n",
    "#             t = compute_test_loss(net, test_dataloader)\n",
    "#             testing_loss_list.append(t)\n",
    "#             if iter_num % 10 == 0:\n",
    "#                 av = np.average(testing_loss_list[-10:])\n",
    "#                 print av\n",
    "#                 average_testing_loss.append(av)\n",
    "\n",
    "    print num_images"
   ]
  }
 ],
 "metadata": {
  "kernelspec": {
   "display_name": "Python 2",
   "language": "python",
   "name": "python2"
  },
  "language_info": {
   "codemirror_mode": {
    "name": "ipython",
    "version": 2
   },
   "file_extension": ".py",
   "mimetype": "text/x-python",
   "name": "python",
   "nbconvert_exporter": "python",
   "pygments_lexer": "ipython2",
   "version": "2.7.14"
  }
 },
 "nbformat": 4,
 "nbformat_minor": 2
}
